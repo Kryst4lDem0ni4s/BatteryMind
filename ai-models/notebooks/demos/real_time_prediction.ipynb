{
 "cells": [
  {
   "cell_type": "code",
   "execution_count": null,
   "id": "1bb018d0",
   "metadata": {
    "vscode": {
     "languageId": "plaintext"
    }
   },
   "outputs": [],
   "source": [
    "# -----------------------------------------------------------------------------\n",
    "# BatteryMind – Real-Time Prediction Demo\n",
    "# -----------------------------------------------------------------------------\n",
    "# Cell 1 – Imports & Endpoint Config\n",
    "import json, time, boto3, numpy as np, pandas as pd\n",
    "import plotly.express as px\n",
    "from ai_models.inference.pipelines.real_time_inference import (\n",
    "    RealTimeInferencePipeline\n",
    ")\n",
    "ENDPOINT_NAME = \"BatteryMind-Transformer-Endpoint\"\n",
    "sagemaker = boto3.client(\"sagemaker-runtime\")\n",
    "\n",
    "# Cell 2 – Stream Simulator (reads synthetic telemetry & yields rows)\n",
    "def stream_sensor_rows(csv_path, delay=0.5):\n",
    "    for row in pd.read_csv(csv_path, chunksize=1):\n",
    "        yield row.iloc[0].to_dict()\n",
    "        time.sleep(delay)\n",
    "\n",
    "# Cell 3 – Inference Loop\n",
    "pipe = RealTimeInferencePipeline(endpoint_name=ENDPOINT_NAME)\n",
    "\n",
    "predictions = []\n",
    "for record in stream_sensor_rows(\"training-data/synthetic_datasets/battery_telemetry.csv\"):\n",
    "    payload = json.dumps(record)\n",
    "    pred = pipe.predict(payload)\n",
    "    predictions.append({**record, **pred})\n",
    "    # Live plot every 100 rows\n",
    "    if len(predictions) % 100 == 0:\n",
    "        df_live = pd.DataFrame(predictions[-100:])\n",
    "        fig = px.line(df_live, x=\"timestamp\", y=\"soh_pred\", title=\"Live SoH Prediction\")\n",
    "        fig.show()\n",
    "\n",
    "# Cell 4 – Alerting Example\n",
    "from ai_models.monitoring.alerts.alert_manager import AlertManager\n",
    "am = AlertManager()\n",
    "for p in predictions:\n",
    "    if p[\"soh_pred\"] < 0.7:\n",
    "        am.create_alert(\n",
    "            alert_type=\"LOW_SOH\",\n",
    "            severity=\"high\",\n",
    "            message=f\"Battery {p['battery_id']} SoH below threshold: {p['soh_pred']:.2f}\"\n",
    "        )\n"
   ]
  }
 ],
 "metadata": {
  "language_info": {
   "name": "python"
  }
 },
 "nbformat": 4,
 "nbformat_minor": 5
}
