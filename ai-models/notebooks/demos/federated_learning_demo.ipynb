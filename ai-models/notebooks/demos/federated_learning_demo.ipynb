{
 "cells": [
  {
   "cell_type": "code",
   "execution_count": null,
   "id": "e80f5800",
   "metadata": {
    "vscode": {
     "languageId": "plaintext"
    }
   },
   "outputs": [],
   "source": [
    "# -----------------------------------------------------------------------------\n",
    "# BatteryMind – Federated Learning Demo\n",
    "# -----------------------------------------------------------------------------\n",
    "# Cell 1 – Imports & Configuration\n",
    "import json, time, logging, numpy as np, pandas as pd\n",
    "from ai_models.federated_learning.simulation_framework.federated_simulator import FederatedSimulator\n",
    "from ai_models.federated_learning.server.federated_server import FederatedServer\n",
    "from ai_models.federated_learning.client_models.client_manager import ClientManager\n",
    "from ai_models.training_data.synthetic_datasets import generate_battery_telemetry_data\n",
    "\n",
    "logging.basicConfig(level=logging.INFO)\n",
    "\n",
    "NUM_CLIENTS = 10\n",
    "ROUNDS = 20\n",
    "LOCAL_EPOCHS = 3\n",
    "\n",
    "# Cell 2 – Generate Per-Client Data\n",
    "client_datasets = {}\n",
    "for cid in range(NUM_CLIENTS):\n",
    "    csv_path = generate_battery_telemetry_data(\n",
    "        num_batteries=50, duration_days=30,\n",
    "        output_path=f\"./client_{cid}_data.csv\"\n",
    "    )\n",
    "    client_datasets[cid] = csv_path\n",
    "\n",
    "# Cell 3 – Instantiate Server & Clients\n",
    "server = FederatedServer(aggregation_algorithm=\"FedAvg\", dp_noise=True)\n",
    "clients = ClientManager(\n",
    "    num_clients=NUM_CLIENTS,\n",
    "    local_epochs=LOCAL_EPOCHS,\n",
    "    client_dataset_paths=client_datasets\n",
    ")\n",
    "\n",
    "sim = FederatedSimulator(server, clients, rounds=ROUNDS)\n",
    "\n",
    "# Cell 4 – Run Simulation\n",
    "history = sim.run()\n",
    "history_df = pd.DataFrame(history)\n",
    "history_df.head()\n",
    "\n",
    "# Cell 5 – Visualise Global Accuracy\n",
    "import plotly.graph_objects as go\n",
    "fig = go.Figure()\n",
    "fig.add_trace(go.Scatter(\n",
    "    x=history_df[\"round\"], y=history_df[\"global_accuracy\"],\n",
    "    mode=\"lines+markers\", name=\"Global Accuracy\"\n",
    "))\n",
    "fig.update_layout(title=\"Federated Learning Convergence\")\n",
    "fig.show()\n",
    "\n",
    "# Cell 6 – Compare With Centralised Model\n",
    "from ai_models.transformers.battery_health_predictor.trainer import (\n",
    "    train_centralised_transformer\n",
    ")\n",
    "centralised_metrics = train_centralised_transformer(\n",
    "    csv_path=\"training-data/synthetic_datasets/battery_telemetry.csv\",\n",
    "    epochs=LOCAL_EPOCHS * ROUNDS\n",
    ")\n",
    "print(\"Centralised accuracy:\", centralised_metrics[\"val_accuracy\"])\n"
   ]
  }
 ],
 "metadata": {
  "language_info": {
   "name": "python"
  }
 },
 "nbformat": 4,
 "nbformat_minor": 5
}
